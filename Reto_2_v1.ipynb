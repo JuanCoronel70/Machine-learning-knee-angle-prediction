{
  "nbformat": 4,
  "nbformat_minor": 0,
  "metadata": {
    "colab": {
      "provenance": [],
      "collapsed_sections": [
        "lAtOnjHZlKCt",
        "rbP2-kIcpEQR",
        "9Ci-OiC5rHI2",
        "yvDPPIzxcFbk"
      ]
    },
    "kernelspec": {
      "name": "python3",
      "display_name": "Python 3"
    },
    "language_info": {
      "name": "python"
    }
  },
  "cells": [
    {
      "cell_type": "markdown",
      "source": [
        "#Reto 2 - Programación cientifica\n",
        "- Grupo 1:\n",
        "  - Juan Coronel - 202111207\n",
        "  - Obed Cabanzo - 201911749"
      ],
      "metadata": {
        "id": "dJQnUqByeNOF"
      }
    },
    {
      "cell_type": "markdown",
      "source": [
        "#1. Explicación general del problema\n"
      ],
      "metadata": {
        "id": "DwmxJM7wj_gk"
      }
    },
    {
      "cell_type": "markdown",
      "source": [
        "En el ciclismo existen distintas formas de registrar los movimientos y posiciones del ciclista durante el entrenamiento o la carrera. Lo anterior nos permite comprender como funciona la anatomia del ciclista y asi poder realizar analisis de velocidad o posicion, dependiendo de las dimensiones tomadas, para fines deportivos e investigativos. Lo que se busca lograr en este proyecto para contribuir a este tipo de investigaciones, es crear un modelo de machine learning, basado en regresion lineal, para predecir la posicion de la rodilla izquierda de un ciclista, basado en la posicion de la rodilla derecha. Cabe recalcar que el modelo sera entrenado con datos reales de la rodilla izquierda y derecha tomados del laboratorio de Ingenieria Biomedica de la universidad de los andes."
      ],
      "metadata": {
        "id": "hj8BORMP5hyA"
      }
    },
    {
      "cell_type": "markdown",
      "source": [
        "#2. Definición componentes del problema de optimización\n",
        "\n"
      ],
      "metadata": {
        "id": "zudZFsWhk7KT"
      }
    },
    {
      "cell_type": "markdown",
      "source": [
        "- **Variables de decisión:**\n",
        "  - $\\beta_0, \\beta_1, \\beta_2, ..., \\beta_n$.\n",
        "\n",
        "- **Función Objetivo:**\n",
        "  - min$_{\\beta \\in R^n}$ $f(β)$ = min$_{\\beta \\in R^n}$  $||y - Hβ||_2^2 + c||β||_2^2$\n",
        "\n",
        "- **Minimizador:**\n",
        "  -  $β^*$ = args min$_{\\beta \\in R^n} ||y - Hβ||_2^2 + c||β||_2^2$\n",
        "\n",
        "\n",
        "- **Minimo**:\n",
        "  -  $f(β^*)$ = $||y - Hβ^*||_2^2 + c||β^*||_2^2$\n"
      ],
      "metadata": {
        "id": "5R6lyI1y7uxi"
      }
    },
    {
      "cell_type": "markdown",
      "source": [
        "#3. Entendimiento y preparacion de datos"
      ],
      "metadata": {
        "id": "3UBmWRdPk_tw"
      }
    },
    {
      "cell_type": "markdown",
      "source": [
        "## 3.1 Perfilamiento de datos"
      ],
      "metadata": {
        "id": "lAtOnjHZlKCt"
      }
    },
    {
      "cell_type": "code",
      "source": [
        "import numpy as np\n",
        "import pandas as pd\n",
        "import matplotlib.pyplot as plt\n",
        "\n",
        "train = pd.read_csv(\"./data/train.csv\", sep=\";\")\n",
        "train.shape"
      ],
      "metadata": {
        "colab": {
          "base_uri": "https://localhost:8080/"
        },
        "id": "o6_8cEKhlNPw",
        "outputId": "8905409e-cc86-4837-a097-7900265d22b7"
      },
      "execution_count": null,
      "outputs": [
        {
          "output_type": "execute_result",
          "data": {
            "text/plain": [
              "(5040, 2)"
            ]
          },
          "metadata": {},
          "execution_count": 1
        }
      ]
    },
    {
      "cell_type": "markdown",
      "source": [
        "Se muestra un ejemplo de los datos presentes en el dataframe:"
      ],
      "metadata": {
        "id": "iomKedornmGG"
      }
    },
    {
      "cell_type": "code",
      "source": [
        "train.head(5)"
      ],
      "metadata": {
        "colab": {
          "base_uri": "https://localhost:8080/"
        },
        "id": "tmYvGI1rnt5w",
        "outputId": "9a519491-23bf-481e-fa85-a5dab7b7fd5f"
      },
      "execution_count": null,
      "outputs": [
        {
          "output_type": "execute_result",
          "data": {
            "text/plain": [
              "       der      izq\n",
              "0  146,567  74,4195\n",
              "1  146,528  74,4264\n",
              "2  146,484  74,4339\n",
              "3  146,438  74,4419\n",
              "4  146,389  74,4503"
            ],
            "text/html": [
              "\n",
              "  <div id=\"df-d7ea4cd1-1543-4464-89e7-1664f26c4aa0\" class=\"colab-df-container\">\n",
              "    <div>\n",
              "<style scoped>\n",
              "    .dataframe tbody tr th:only-of-type {\n",
              "        vertical-align: middle;\n",
              "    }\n",
              "\n",
              "    .dataframe tbody tr th {\n",
              "        vertical-align: top;\n",
              "    }\n",
              "\n",
              "    .dataframe thead th {\n",
              "        text-align: right;\n",
              "    }\n",
              "</style>\n",
              "<table border=\"1\" class=\"dataframe\">\n",
              "  <thead>\n",
              "    <tr style=\"text-align: right;\">\n",
              "      <th></th>\n",
              "      <th>der</th>\n",
              "      <th>izq</th>\n",
              "    </tr>\n",
              "  </thead>\n",
              "  <tbody>\n",
              "    <tr>\n",
              "      <th>0</th>\n",
              "      <td>146,567</td>\n",
              "      <td>74,4195</td>\n",
              "    </tr>\n",
              "    <tr>\n",
              "      <th>1</th>\n",
              "      <td>146,528</td>\n",
              "      <td>74,4264</td>\n",
              "    </tr>\n",
              "    <tr>\n",
              "      <th>2</th>\n",
              "      <td>146,484</td>\n",
              "      <td>74,4339</td>\n",
              "    </tr>\n",
              "    <tr>\n",
              "      <th>3</th>\n",
              "      <td>146,438</td>\n",
              "      <td>74,4419</td>\n",
              "    </tr>\n",
              "    <tr>\n",
              "      <th>4</th>\n",
              "      <td>146,389</td>\n",
              "      <td>74,4503</td>\n",
              "    </tr>\n",
              "  </tbody>\n",
              "</table>\n",
              "</div>\n",
              "    <div class=\"colab-df-buttons\">\n",
              "\n",
              "  <div class=\"colab-df-container\">\n",
              "    <button class=\"colab-df-convert\" onclick=\"convertToInteractive('df-d7ea4cd1-1543-4464-89e7-1664f26c4aa0')\"\n",
              "            title=\"Convert this dataframe to an interactive table.\"\n",
              "            style=\"display:none;\">\n",
              "\n",
              "  <svg xmlns=\"http://www.w3.org/2000/svg\" height=\"24px\" viewBox=\"0 -960 960 960\">\n",
              "    <path d=\"M120-120v-720h720v720H120Zm60-500h600v-160H180v160Zm220 220h160v-160H400v160Zm0 220h160v-160H400v160ZM180-400h160v-160H180v160Zm440 0h160v-160H620v160ZM180-180h160v-160H180v160Zm440 0h160v-160H620v160Z\"/>\n",
              "  </svg>\n",
              "    </button>\n",
              "\n",
              "  <style>\n",
              "    .colab-df-container {\n",
              "      display:flex;\n",
              "      gap: 12px;\n",
              "    }\n",
              "\n",
              "    .colab-df-convert {\n",
              "      background-color: #E8F0FE;\n",
              "      border: none;\n",
              "      border-radius: 50%;\n",
              "      cursor: pointer;\n",
              "      display: none;\n",
              "      fill: #1967D2;\n",
              "      height: 32px;\n",
              "      padding: 0 0 0 0;\n",
              "      width: 32px;\n",
              "    }\n",
              "\n",
              "    .colab-df-convert:hover {\n",
              "      background-color: #E2EBFA;\n",
              "      box-shadow: 0px 1px 2px rgba(60, 64, 67, 0.3), 0px 1px 3px 1px rgba(60, 64, 67, 0.15);\n",
              "      fill: #174EA6;\n",
              "    }\n",
              "\n",
              "    .colab-df-buttons div {\n",
              "      margin-bottom: 4px;\n",
              "    }\n",
              "\n",
              "    [theme=dark] .colab-df-convert {\n",
              "      background-color: #3B4455;\n",
              "      fill: #D2E3FC;\n",
              "    }\n",
              "\n",
              "    [theme=dark] .colab-df-convert:hover {\n",
              "      background-color: #434B5C;\n",
              "      box-shadow: 0px 1px 3px 1px rgba(0, 0, 0, 0.15);\n",
              "      filter: drop-shadow(0px 1px 2px rgba(0, 0, 0, 0.3));\n",
              "      fill: #FFFFFF;\n",
              "    }\n",
              "  </style>\n",
              "\n",
              "    <script>\n",
              "      const buttonEl =\n",
              "        document.querySelector('#df-d7ea4cd1-1543-4464-89e7-1664f26c4aa0 button.colab-df-convert');\n",
              "      buttonEl.style.display =\n",
              "        google.colab.kernel.accessAllowed ? 'block' : 'none';\n",
              "\n",
              "      async function convertToInteractive(key) {\n",
              "        const element = document.querySelector('#df-d7ea4cd1-1543-4464-89e7-1664f26c4aa0');\n",
              "        const dataTable =\n",
              "          await google.colab.kernel.invokeFunction('convertToInteractive',\n",
              "                                                    [key], {});\n",
              "        if (!dataTable) return;\n",
              "\n",
              "        const docLinkHtml = 'Like what you see? Visit the ' +\n",
              "          '<a target=\"_blank\" href=https://colab.research.google.com/notebooks/data_table.ipynb>data table notebook</a>'\n",
              "          + ' to learn more about interactive tables.';\n",
              "        element.innerHTML = '';\n",
              "        dataTable['output_type'] = 'display_data';\n",
              "        await google.colab.output.renderOutput(dataTable, element);\n",
              "        const docLink = document.createElement('div');\n",
              "        docLink.innerHTML = docLinkHtml;\n",
              "        element.appendChild(docLink);\n",
              "      }\n",
              "    </script>\n",
              "  </div>\n",
              "\n",
              "\n",
              "<div id=\"df-99472901-ceb5-4b8e-a783-36ce406efd8d\">\n",
              "  <button class=\"colab-df-quickchart\" onclick=\"quickchart('df-99472901-ceb5-4b8e-a783-36ce406efd8d')\"\n",
              "            title=\"Suggest charts\"\n",
              "            style=\"display:none;\">\n",
              "\n",
              "<svg xmlns=\"http://www.w3.org/2000/svg\" height=\"24px\"viewBox=\"0 0 24 24\"\n",
              "     width=\"24px\">\n",
              "    <g>\n",
              "        <path d=\"M19 3H5c-1.1 0-2 .9-2 2v14c0 1.1.9 2 2 2h14c1.1 0 2-.9 2-2V5c0-1.1-.9-2-2-2zM9 17H7v-7h2v7zm4 0h-2V7h2v10zm4 0h-2v-4h2v4z\"/>\n",
              "    </g>\n",
              "</svg>\n",
              "  </button>\n",
              "\n",
              "<style>\n",
              "  .colab-df-quickchart {\n",
              "      --bg-color: #E8F0FE;\n",
              "      --fill-color: #1967D2;\n",
              "      --hover-bg-color: #E2EBFA;\n",
              "      --hover-fill-color: #174EA6;\n",
              "      --disabled-fill-color: #AAA;\n",
              "      --disabled-bg-color: #DDD;\n",
              "  }\n",
              "\n",
              "  [theme=dark] .colab-df-quickchart {\n",
              "      --bg-color: #3B4455;\n",
              "      --fill-color: #D2E3FC;\n",
              "      --hover-bg-color: #434B5C;\n",
              "      --hover-fill-color: #FFFFFF;\n",
              "      --disabled-bg-color: #3B4455;\n",
              "      --disabled-fill-color: #666;\n",
              "  }\n",
              "\n",
              "  .colab-df-quickchart {\n",
              "    background-color: var(--bg-color);\n",
              "    border: none;\n",
              "    border-radius: 50%;\n",
              "    cursor: pointer;\n",
              "    display: none;\n",
              "    fill: var(--fill-color);\n",
              "    height: 32px;\n",
              "    padding: 0;\n",
              "    width: 32px;\n",
              "  }\n",
              "\n",
              "  .colab-df-quickchart:hover {\n",
              "    background-color: var(--hover-bg-color);\n",
              "    box-shadow: 0 1px 2px rgba(60, 64, 67, 0.3), 0 1px 3px 1px rgba(60, 64, 67, 0.15);\n",
              "    fill: var(--button-hover-fill-color);\n",
              "  }\n",
              "\n",
              "  .colab-df-quickchart-complete:disabled,\n",
              "  .colab-df-quickchart-complete:disabled:hover {\n",
              "    background-color: var(--disabled-bg-color);\n",
              "    fill: var(--disabled-fill-color);\n",
              "    box-shadow: none;\n",
              "  }\n",
              "\n",
              "  .colab-df-spinner {\n",
              "    border: 2px solid var(--fill-color);\n",
              "    border-color: transparent;\n",
              "    border-bottom-color: var(--fill-color);\n",
              "    animation:\n",
              "      spin 1s steps(1) infinite;\n",
              "  }\n",
              "\n",
              "  @keyframes spin {\n",
              "    0% {\n",
              "      border-color: transparent;\n",
              "      border-bottom-color: var(--fill-color);\n",
              "      border-left-color: var(--fill-color);\n",
              "    }\n",
              "    20% {\n",
              "      border-color: transparent;\n",
              "      border-left-color: var(--fill-color);\n",
              "      border-top-color: var(--fill-color);\n",
              "    }\n",
              "    30% {\n",
              "      border-color: transparent;\n",
              "      border-left-color: var(--fill-color);\n",
              "      border-top-color: var(--fill-color);\n",
              "      border-right-color: var(--fill-color);\n",
              "    }\n",
              "    40% {\n",
              "      border-color: transparent;\n",
              "      border-right-color: var(--fill-color);\n",
              "      border-top-color: var(--fill-color);\n",
              "    }\n",
              "    60% {\n",
              "      border-color: transparent;\n",
              "      border-right-color: var(--fill-color);\n",
              "    }\n",
              "    80% {\n",
              "      border-color: transparent;\n",
              "      border-right-color: var(--fill-color);\n",
              "      border-bottom-color: var(--fill-color);\n",
              "    }\n",
              "    90% {\n",
              "      border-color: transparent;\n",
              "      border-bottom-color: var(--fill-color);\n",
              "    }\n",
              "  }\n",
              "</style>\n",
              "\n",
              "  <script>\n",
              "    async function quickchart(key) {\n",
              "      const quickchartButtonEl =\n",
              "        document.querySelector('#' + key + ' button');\n",
              "      quickchartButtonEl.disabled = true;  // To prevent multiple clicks.\n",
              "      quickchartButtonEl.classList.add('colab-df-spinner');\n",
              "      try {\n",
              "        const charts = await google.colab.kernel.invokeFunction(\n",
              "            'suggestCharts', [key], {});\n",
              "      } catch (error) {\n",
              "        console.error('Error during call to suggestCharts:', error);\n",
              "      }\n",
              "      quickchartButtonEl.classList.remove('colab-df-spinner');\n",
              "      quickchartButtonEl.classList.add('colab-df-quickchart-complete');\n",
              "    }\n",
              "    (() => {\n",
              "      let quickchartButtonEl =\n",
              "        document.querySelector('#df-99472901-ceb5-4b8e-a783-36ce406efd8d button');\n",
              "      quickchartButtonEl.style.display =\n",
              "        google.colab.kernel.accessAllowed ? 'block' : 'none';\n",
              "    })();\n",
              "  </script>\n",
              "</div>\n",
              "    </div>\n",
              "  </div>\n"
            ]
          },
          "metadata": {},
          "execution_count": 2
        }
      ]
    },
    {
      "cell_type": "markdown",
      "source": [
        "Se hace una descripción de los datos para destacar las variables categóricas o numéricas:"
      ],
      "metadata": {
        "id": "u2dv9fyjn0MF"
      }
    },
    {
      "cell_type": "code",
      "source": [
        "train.dtypes"
      ],
      "metadata": {
        "colab": {
          "base_uri": "https://localhost:8080/"
        },
        "id": "QCl_D4qCn1KR",
        "outputId": "23321f56-6e4d-426d-8c5c-47bd157c8a1f"
      },
      "execution_count": null,
      "outputs": [
        {
          "output_type": "execute_result",
          "data": {
            "text/plain": [
              "der    object\n",
              "izq    object\n",
              "dtype: object"
            ]
          },
          "metadata": {},
          "execution_count": 3
        }
      ]
    },
    {
      "cell_type": "markdown",
      "source": [
        "Note que las dos columnas son cadenas de texto (strings), por ende, para poder manipular estos valores en la regresión, es necesario transformar estos tipos de datos a enteros (integers). Lo anterior se definira mas adelante en el notebook."
      ],
      "metadata": {
        "id": "UnstfjjHn3x6"
      }
    },
    {
      "cell_type": "markdown",
      "source": [
        "##3.2 Calidad de los datos"
      ],
      "metadata": {
        "id": "rbP2-kIcpEQR"
      }
    },
    {
      "cell_type": "markdown",
      "source": [
        "###3.2.1 Unicidad\n",
        "Verifiquemos el numero de filas duplicadas, es decir, el numero de filas que tienen exactamente los mismos valores en las mismas columnas. Note que no hay ninguna fila duplicada, por lo cual no es necesario hacer modificaciones en esta parte."
      ],
      "metadata": {
        "id": "8AJQ8z_IpI3G"
      }
    },
    {
      "cell_type": "code",
      "source": [
        "train.duplicated().sum()"
      ],
      "metadata": {
        "colab": {
          "base_uri": "https://localhost:8080/"
        },
        "id": "zwAvBEA3pPEI",
        "outputId": "7d3d4e6e-11b0-4aa9-fa7b-10b3d1f6bf77"
      },
      "execution_count": null,
      "outputs": [
        {
          "output_type": "execute_result",
          "data": {
            "text/plain": [
              "0"
            ]
          },
          "metadata": {},
          "execution_count": 4
        }
      ]
    },
    {
      "cell_type": "markdown",
      "source": [
        "###3.2.2 Completitud\n",
        "Note que la completitud se muestra en porcentaje de valores no nulos, es decir, una completitud de 100% indica que no hay ningun valor nulo en esa columna. Note que no hay ningun dato nulo, por lo cual no es necesario hacer modificaciones en esta parte."
      ],
      "metadata": {
        "id": "v7ijSHFEpbK8"
      }
    },
    {
      "cell_type": "code",
      "source": [
        "completitud = train.count() / len(train) * 100\n",
        "completitud"
      ],
      "metadata": {
        "colab": {
          "base_uri": "https://localhost:8080/"
        },
        "id": "FuatfnT6plNW",
        "outputId": "d0c50e8e-b0ea-494c-8eb8-84a1aca177e6"
      },
      "execution_count": null,
      "outputs": [
        {
          "output_type": "execute_result",
          "data": {
            "text/plain": [
              "der    100.0\n",
              "izq    100.0\n",
              "dtype: float64"
            ]
          },
          "metadata": {},
          "execution_count": 5
        }
      ]
    },
    {
      "cell_type": "markdown",
      "source": [
        "###3.2.3 Validez\n",
        "Miremos que tan validos son los valores en la columnas, para eso, tenemos que imprimir los valores unicos de cada columna y comprobar que resultados atipicos obtenemos. Note que por el momento los valores son validos en los rangos esperados y definidos por el enunciado."
      ],
      "metadata": {
        "id": "Z4WLyExUqKj5"
      }
    },
    {
      "cell_type": "code",
      "source": [
        "# Mostrar los valores únicos de las columnas categóricas\n",
        "for col in train.select_dtypes(include=['object']):\n",
        "    print(f\"Valores únicos de {col}: {train[col].unique()}\")"
      ],
      "metadata": {
        "colab": {
          "base_uri": "https://localhost:8080/"
        },
        "id": "9_f3RbUhqdu-",
        "outputId": "3602131c-bb9e-4599-d065-a2758ede99a0"
      },
      "execution_count": null,
      "outputs": [
        {
          "output_type": "stream",
          "name": "stdout",
          "text": [
            "Valores únicos de der: ['146,567' '146,528' '146,484' ... '75,0909' '75,0251' '74,973']\n",
            "Valores únicos de izq: ['74,4195' '74,4264' '74,4339' ... '146,55' '147,08' '147,294']\n"
          ]
        }
      ]
    },
    {
      "cell_type": "markdown",
      "source": [
        "##3.3 Preparación de datos\n"
      ],
      "metadata": {
        "id": "9Ci-OiC5rHI2"
      }
    },
    {
      "cell_type": "markdown",
      "source": [
        "###3.3.1 **Conversion a variables numericas:** Ahora necesitamos convertir las variables que segun el diccionario de datos deberian ser numericas y las variables categoricas, a numericas (valga la redudancia).\n",
        "\n"
      ],
      "metadata": {
        "id": "0pWJ5tZFs-wj"
      }
    },
    {
      "cell_type": "code",
      "source": [
        "import pandas as pd\n",
        "\n",
        "\n",
        "# 1. Reemplazar las comas por puntos en las cadenas\n",
        "train['der'] = train['der'].str.replace(',', '.', regex=True)\n",
        "train['izq'] = train['izq'].str.replace(',', '.', regex=True)\n",
        "\n",
        "# 2. Convertir las cadenas en enteros\n",
        "train['izq'] = train['izq'].astype(float)\n",
        "train['der'] = train['der'].astype(float)\n",
        "\n",
        "# Mostrar el DataFrame resultante\n",
        "print(train)"
      ],
      "metadata": {
        "colab": {
          "base_uri": "https://localhost:8080/"
        },
        "id": "I_BgGNlZt9Sl",
        "outputId": "2c2fbf86-d734-47fe-cf0b-61a4f5f4285e"
      },
      "execution_count": null,
      "outputs": [
        {
          "output_type": "stream",
          "name": "stdout",
          "text": [
            "           der       izq\n",
            "0     146.5670   74.4195\n",
            "1     146.5280   74.4264\n",
            "2     146.4840   74.4339\n",
            "3     146.4380   74.4419\n",
            "4     146.3890   74.4503\n",
            "...        ...       ...\n",
            "5035   75.2692  146.5500\n",
            "5036   75.1718  146.8320\n",
            "5037   75.0909  147.0800\n",
            "5038   75.0251  147.2940\n",
            "5039   74.9730  147.4730\n",
            "\n",
            "[5040 rows x 2 columns]\n"
          ]
        }
      ]
    },
    {
      "cell_type": "code",
      "source": [
        "# Ahora evidenciamos los tipos de datos convertidos\n",
        "train.dtypes"
      ],
      "metadata": {
        "colab": {
          "base_uri": "https://localhost:8080/"
        },
        "id": "tad5sSPc9jKf",
        "outputId": "0fe781f8-9b83-43ab-cea6-61a071818c19"
      },
      "execution_count": null,
      "outputs": [
        {
          "output_type": "execute_result",
          "data": {
            "text/plain": [
              "der    float64\n",
              "izq    float64\n",
              "dtype: object"
            ]
          },
          "metadata": {},
          "execution_count": 8
        }
      ]
    },
    {
      "cell_type": "markdown",
      "source": [
        "En efecto, ahora los valores son valores flotantes, por ende, ya podemos empezar a manipularlos y hacer operaciones con estos."
      ],
      "metadata": {
        "id": "qxb0hG1k9nea"
      }
    },
    {
      "cell_type": "markdown",
      "source": [
        "###3.3.2 **Tratamiento de outliers:** Evaluamos como estan los valores atipicos en los datos otorgados a traves de un box **plot**:"
      ],
      "metadata": {
        "id": "L7yd1G7Ss-Te"
      }
    },
    {
      "cell_type": "code",
      "source": [
        "import matplotlib.pyplot as plt\n",
        "\n",
        "# Crear un gráfico de caja para cada columna del DataFrame\n",
        "plt.figure(figsize=(12, 8))  # Tamaño del gráfico\n",
        "\n",
        "for column in train.columns:\n",
        "    plt.subplot(1, len(train.columns), train.columns.get_loc(column) + 1)  # Crear un subplot para cada columna\n",
        "    plt.boxplot(train[column], vert=False)  # Crear el box plot\n",
        "    plt.title(f'Outliers en \"{column}\"')  # Título del gráfico\n",
        "    plt.xlabel(column)  # Etiqueta del eje x\n",
        "\n",
        "plt.tight_layout()  # Ajustar el diseño de los subplots\n",
        "plt.show()\n"
      ],
      "metadata": {
        "colab": {
          "base_uri": "https://localhost:8080/"
        },
        "id": "u8TgmMhYsvmS",
        "outputId": "97930012-be8e-43de-87e0-11e0e2f88a20"
      },
      "execution_count": null,
      "outputs": [
        {
          "output_type": "display_data",
          "data": {
            "text/plain": [
              "<Figure size 1200x800 with 2 Axes>"
            ],
            "image/png": "[encoded data removed]"
          },
          "metadata": {}
        }
      ]
    },
    {
      "cell_type": "markdown",
      "source": [
        "Como se puede observar, no hay valores por fuera de los pivotes de la caja, lo cual quiere indicar que no tenemos valores extremos (outliers) por fuera del rango normal esperado."
      ],
      "metadata": {
        "id": "5KeCPK758_8a"
      }
    },
    {
      "cell_type": "markdown",
      "source": [
        "##3.4 Visualizacion de datos\n",
        "Finalmente, vamos a visualizar los datos para ver si encontramos errores o inconsistencias en las mediciones de los datos de entrenamiento. Tambien nos interesa ver el comportamiento de los datos mas de cerca, tener una apreciacion mas completa sobre estos."
      ],
      "metadata": {
        "id": "yvDPPIzxcFbk"
      }
    },
    {
      "cell_type": "code",
      "source": [
        "# Realicemos una grafica del tipo Scatter Plot con todos los datos\n",
        "plt.scatter(train['izq'], train['der'])\n",
        "plt.xlabel('izq')\n",
        "plt.ylabel('der')\n",
        "plt.title('Relación entre izq y der')\n",
        "plt.show()"
      ],
      "metadata": {
        "colab": {
          "base_uri": "https://localhost:8080/"
        },
        "id": "saobL7zWcSFR",
        "outputId": "093104c1-c424-4a05-f0ab-f72177725989"
      },
      "execution_count": null,
      "outputs": [
        {
          "output_type": "display_data",
          "data": {
            "text/plain": [
              "<Figure size 640x480 with 1 Axes>"
            ],
            "image/png": "[encoded data removed]"
          },
          "metadata": {}
        }
      ]
    },
    {
      "cell_type": "markdown",
      "source": [
        "**Comentario:** A grandes rasgos, parece que los datos manejan una relacion lineal de pendiente negativa, no obstante, esta grafica comprende todas las filas del dataframe, asi que es mejor crear unas graficas con una porcion de filas mas pequeños para poder ver a detalle como se comportan los datos."
      ],
      "metadata": {
        "id": "evftPKlzgZXZ"
      }
    },
    {
      "cell_type": "code",
      "source": [
        "# Realicemos una grafica del tipo Scatter Plot con las primeras 100 filas\n",
        "subset_df = train.head(100)\n",
        "\n",
        "# Creamos un gráfico de dispersión con las primeras 100 filas\n",
        "plt.scatter(subset_df['izq'], subset_df['der'])\n",
        "plt.xlabel('izq')\n",
        "plt.ylabel('der')\n",
        "plt.title('Relación entre izq y der (primeras 100 filas)')\n",
        "plt.show()"
      ],
      "metadata": {
        "colab": {
          "base_uri": "https://localhost:8080/"
        },
        "id": "9KyQRGb0dyCC",
        "outputId": "1fdb0540-d058-4876-fd72-bbf462b27937"
      },
      "execution_count": null,
      "outputs": [
        {
          "output_type": "display_data",
          "data": {
            "text/plain": [
              "<Figure size 640x480 with 1 Axes>"
            ],
            "image/png": "[encoded data removed]"
          },
          "metadata": {}
        }
      ]
    },
    {
      "cell_type": "markdown",
      "source": [
        "**Comentario:** Note que al graficar las primeras 100 filas, nos encontramos con una distribucion atipica, esto parece haber sido generado por un error al hacer la toma de datos. Claramente, tenemos que arreglar estos datos antes de entrenar el modelo."
      ],
      "metadata": {
        "id": "LIWjirASg8hG"
      }
    },
    {
      "cell_type": "code",
      "source": [
        "# Realicemos una grafica del crecimiento en el tiempo de los valores\n",
        "plt.plot(train['izq'], label='izq')\n",
        "plt.plot(train['der'], label='der')\n",
        "plt.xlabel('Índice')\n",
        "plt.ylabel('Valores')\n",
        "plt.title('Relación entre izq y der a lo largo del tiempo')\n",
        "plt.legend()\n",
        "plt.show()"
      ],
      "metadata": {
        "colab": {
          "base_uri": "https://localhost:8080/"
        },
        "id": "FCpsJaI3csH2",
        "outputId": "0b648ef7-8a2d-4e69-9647-bd7d65f41cf3"
      },
      "execution_count": null,
      "outputs": [
        {
          "output_type": "display_data",
          "data": {
            "text/plain": [
              "<Figure size 640x480 with 1 Axes>"
            ],
            "image/png": "[encoded data removed]"
          },
          "metadata": {}
        }
      ]
    },
    {
      "cell_type": "markdown",
      "source": [
        "**Comentario:** Efectivamente, aqui podemos apreciar de mejor manera la verdadera relacion de los datos, y es que estos tienen una distribucion sinusoidal inversa, conforme el movimiento de la pierna izquierda aumenta, el de la pierna derecha disminuye, lo cual tiene sentido para apreciar la manera en como funciona pedalear una bicicleta, conforme una pierna sube, la otra baja. Finalmente, note que en esta grafica tambien se puede observar el error que presentan los datos en el inicio de la distribucion."
      ],
      "metadata": {
        "id": "VJx8pB8XhYRW"
      }
    },
    {
      "cell_type": "code",
      "source": [
        "train[['izq', 'der']].plot(kind='hist', alpha=0.5)\n",
        "plt.xlabel('Valores')\n",
        "plt.ylabel('Frecuencia')\n",
        "plt.title('Distribución de izq y der')\n",
        "plt.show()"
      ],
      "metadata": {
        "colab": {
          "base_uri": "https://localhost:8080/"
        },
        "id": "lgPaau5rc5tm",
        "outputId": "5e2fd06e-491d-4324-ae2b-3bf9170f7099"
      },
      "execution_count": null,
      "outputs": [
        {
          "output_type": "display_data",
          "data": {
            "text/plain": [
              "<Figure size 640x480 with 1 Axes>"
            ],
            "image/png": "[encoded data removed]"
          },
          "metadata": {}
        }
      ]
    },
    {
      "cell_type": "markdown",
      "source": [
        "**Comentario:** Los valores de la rodilla izquierda tienen mucha mas frecuencia al inicio de los datos, mientras que al final de los datos crece la frecuencia de los valores de la rodilla derecha."
      ],
      "metadata": {
        "id": "-gNaJjvzh3Mp"
      }
    },
    {
      "cell_type": "markdown",
      "source": [
        "##3.5 Arreglo del desborde inicial"
      ],
      "metadata": {
        "id": "lhjtkXfwgFgZ"
      }
    },
    {
      "cell_type": "markdown",
      "source": [
        "\n",
        "En primer lugar, es necesario identificar el rango de pares de datos en el que se encuentran inconsistencias. Para lograrlo, se generan diversas gráficas que representan los valores con errores, con el fin de determinar dónde se inician y finalizan estas irregularidades dentro del conjunto de datos recopilados."
      ],
      "metadata": {
        "id": "YOlRU2xO1RXr"
      }
    },
    {
      "cell_type": "code",
      "source": [
        "# Realicemos una grafica del tipo Scatter Plot con las primeras 100 filas\n",
        "subset_df = train.head(200)\n",
        "\n",
        "# Creamos un gráfico de dispersión con las primeras 200 filas\n",
        "plt.scatter(subset_df['izq'], subset_df['der'])\n",
        "plt.xlabel('izq')\n",
        "plt.ylabel('der')\n",
        "plt.title('Relación entre izq y der (primeras 200 filas)')\n",
        "plt.show()\n",
        "\n",
        "subset_df = train.head(205)\n",
        "\n",
        "# Creamos un gráfico de dispersión con las primeras 205 filas\n",
        "plt.scatter(subset_df['izq'], subset_df['der'])\n",
        "plt.xlabel('izq')\n",
        "plt.ylabel('der')\n",
        "plt.title('Relación entre izq y der (primeras 205 filas)')\n",
        "plt.show()\n",
        "\n",
        "subset_df = train.head(210)\n",
        "\n",
        "# Creamos un gráfico de dispersión con las primeras 21 filas\n",
        "plt.scatter(subset_df['izq'], subset_df['der'])\n",
        "plt.xlabel('izq')\n",
        "plt.ylabel('der')\n",
        "plt.title('Relación entre izq y der (primeras 210 filas)')\n",
        "plt.show()\n",
        "\n",
        "subset_df = train.head(250)\n",
        "\n",
        "# Creamos un gráfico de dispersión con las primeras 250 filas\n",
        "plt.scatter(subset_df['izq'], subset_df['der'])\n",
        "plt.xlabel('izq')\n",
        "plt.ylabel('der')\n",
        "plt.title('Relación entre izq y der (primeras 250 filas)')\n",
        "plt.show()"
      ],
      "metadata": {
        "colab": {
          "base_uri": "https://localhost:8080/"
        },
        "id": "L0ZuL6DN1EiB",
        "outputId": "ea7da35c-440e-4dcf-eaef-9b356a0ef1d2"
      },
      "execution_count": null,
      "outputs": [
        {
          "output_type": "display_data",
          "data": {
            "text/plain": [
              "<Figure size 640x480 with 1 Axes>"
            ],
            "image/png": "[encoded data removed]"
          },
          "metadata": {}
        },
        {
          "output_type": "display_data",
          "data": {
            "text/plain": [
              "<Figure size 640x480 with 1 Axes>"
            ],
            "image/png": "[encoded data removed]"
          },
          "metadata": {}
        },
        {
          "output_type": "display_data",
          "data": {
            "text/plain": [
              "<Figure size 640x480 with 1 Axes>"
            ],
            "image/png": "[encoded data removed]"
          },
          "metadata": {}
        },
        {
          "output_type": "display_data",
          "data": {
            "text/plain": [
              "<Figure size 640x480 with 1 Axes>"
            ],
            "image/png": "[encoded data removed]"
          },
          "metadata": {}
        }
      ]
    },
    {
      "cell_type": "markdown",
      "source": [
        "A partir de las gráficas previas, podemos concluir que los datos inconsistentes se encuentran en los primeros 205 elementos de la colección de datos de entrenamiento, mientras que los elementos posteriores muestran un comportamiento lineal, como era de esperar. Por lo tanto, se deben excluir esos primeros 205 elementos del conjunto de datos."
      ],
      "metadata": {
        "id": "JIeM0pDi29Ga"
      }
    },
    {
      "cell_type": "code",
      "source": [
        "train = train.iloc[205:].reset_index(drop=True)\n",
        "subset_df = train.head(250)\n",
        "\n",
        "\n",
        "# Creamos un gráfico de dispersión con las primeras 205 filas\n",
        "plt.scatter(subset_df['izq'], subset_df['der'])\n",
        "plt.xlabel('izq')\n",
        "plt.ylabel('der')\n",
        "plt.title('Relación entre izq y der (primeras 250 filas - Posterior al ajuste)')\n",
        "plt.show()"
      ],
      "metadata": {
        "colab": {
          "base_uri": "https://localhost:8080/"
        },
        "id": "nvbw7Rf47mKK",
        "outputId": "97a6eacc-adb3-4ed8-ef44-2ceda03a5a4f"
      },
      "execution_count": null,
      "outputs": [
        {
          "output_type": "display_data",
          "data": {
            "text/plain": [
              "<Figure size 640x480 with 1 Axes>"
            ],
            "image/png": "[encoded data removed]"
          },
          "metadata": {}
        }
      ]
    },
    {
      "cell_type": "markdown",
      "source": [
        "#4. Entrenamiento del modelo\n",
        "\n"
      ],
      "metadata": {
        "id": "vZq8mVfAbVdS"
      }
    },
    {
      "cell_type": "markdown",
      "source": [
        "##4.0 Justificacion matematica\n",
        "El problema puede ser formulado como un problema de optimización, donde se busca predecir las mediciones de la rodilla izquierda en función del tiempo, representadas por una función $L(k)\\in \\mathbb{R}$ (donde \"L\" hace referencia a la rodilla izquierda). En este contexto, \"k\" es un número entero positivo que denota un instante de tiempo específico donde fue tomada una medición. Estas predicciones se basan en las mediciones de la rodilla derecha en el mismo y $n$ instantes de tiempo posteriores, representadas como $R(k) $ y $ R(k+n)$ respectivamente.\n",
        "\n",
        "La relación entre $L(k)$ y $R(k+n)$ implica que $L(k)$ se calcula como una combinación lineal de las mediciones de la rodilla derecha en momentos posteriores a $k$. En otras palabras, $L(k)$ es una función que depende de una combinación lineal de $n$ posteriores a $R(k)$, lo que puede expresarse de la siguiente manera:\n",
        "\n",
        ">  $L(k) = \\sum_{i=0}^{n}\\beta_iR(k-i) = \\beta_0R(k) + \\beta_1R(k+1) + \\beta_2R(k+2)+...+\\beta_nR(k+n)$\n",
        "\n",
        "Note que los diferentes $\\beta_n$ pertenecen a los reales y son constantes para todas las $m$ numero de mediciones, asimismo $n\\in \\mathbb{N} $ y resulta ser un hiperparametro que se puede ajustar manualmente dependiendo de cuantas medidas posteriores a $k$ se quieren tomar para predecir $L(k)$.\n",
        "\n",
        "\\\\\n",
        "Dado que hay $m$ mediciones, entonces también se pueden plantear $m$ ecuaciones y por lo tanto obtenemos un sistema de ecuaciones que mediante el metodo de minimos cuadrados permitira estimar los $\\beta_i$ que mejor aproximen la función.\n",
        "\n",
        "\\\\\n",
        "Por lo tanto el problema se reduce a un problema de optimización cuya funcion se plantea de la siguiente manera:\n",
        "\n",
        "> min$_{\\beta \\in R^n}$ $f(β)$ = min$_{\\beta \\in R^n}$  $||L - Hβ||_2^2 + c||β||_2^2$\n",
        "\n",
        "Asi mismo el minimizador que la resuelve estará dado por:\n",
        "\n",
        "> $β^*$ = args min$_{\\beta \\in R^n} ||L - Hβ||_2^2 + c||β||_2^2$\n",
        "\n",
        "Que resolviendo de manera analitica nos permite llegar a la expresión:\n",
        "> $β^* = (H^TH -cI)^{-1} H^TL$\n",
        "\n",
        "Asimismo, $H$ estará definido como una matriz $m\\times n$ (recordando que $m$ representa el número de ecuaciones y $n$ la cantidad de mediciones $R(k)$ tomadas en cuenta en cada ecuación) donde cada fila incluye las mediciones $R(k+i)$, de la siguiente manera:\n",
        "\n",
        "\\begin{equation}\n",
        "H =\n",
        "\\begin{bmatrix}\n",
        "R(1) & R(2) & ... & R(1+n)\\\\\n",
        "R(2) & ... & ... & ...\\\\\n",
        "... & ... & ... & ...\\\\\n",
        "R(m) & ... & ... & R(m+n)\n",
        "\\end{bmatrix}\n",
        "\\end{equation}\n",
        "\n",
        "Observe que, en las últimas ecuaciones, no es posible que dependan de $R(k+n)$ debido a la falta de datos disponibles. Por lo tanto, en estos casos, se considerarán las mediciones con un valor de 0. Asimismo,  $L$ será un vector $m\\times 1$ con todos los valores de las $m$ mediciones de la rodilla izquierda, de la siguiente manera:\n",
        "\n",
        "\\begin{equation}\n",
        "L =\n",
        "\\begin{bmatrix}\n",
        "L(1)\\\\\n",
        "L(2)\\\\\n",
        "... \\\\\n",
        "L(m)\n",
        "\\end{bmatrix}\n",
        "\\end{equation}\n",
        "\n",
        "\n",
        "Finalmente, una vez ecnontrado el vector $\\beta^*$ (que será un vector de tamaño $n\\times 1$, lo que permite la consistencia operacional de $H\\beta^*$) se puede reemplazar en la ecuación y se puede empezar empezar a predecir valores $y$ de la posición de la rodilla izquierda futuros mediante la ecuación:\n",
        "\n",
        "> $y = H\\beta^*$\n",
        "\n",
        "\n",
        "La constante $c$ es un hiperparametro que se podrá ajustar a traves de procesos de entrenamiento y validación.\n",
        "\n"
      ],
      "metadata": {
        "id": "5kVRunGVgDez"
      }
    },
    {
      "cell_type": "markdown",
      "source": [
        "##4.1 Entrenamiento del modelo con parametros aleatorios\n",
        "Miremos que primeras impresiones nos arroja el entrenamiento del modelo con unos hiperparametros tomados al azar tanto para el tamaño de la ventana, n, como para la fuerza de la regularizacion."
      ],
      "metadata": {
        "id": "gtr2kOaNnPoN"
      }
    },
    {
      "cell_type": "code",
      "source": [
        "# Tamaño de la ventana (n)\n",
        "n = 10\n",
        "\n",
        "# Creamos una matriz de diseño X y el vector de valores objetivo y para el entrenamiento\n",
        "X_train = []\n",
        "y_train = []\n",
        "\n",
        "# Aseguraramos que X_train tenga el mismo número de filas que train\n",
        "for i in range(len(train)):\n",
        "    row = [1]  # Intercepto\n",
        "    for j in range(n):\n",
        "        # Llenar con valores adecuados para las filas que no se usaron\n",
        "        if i - j < 0:\n",
        "            row.append(0.0)\n",
        "        else:\n",
        "            row.append(train['der'][i - j])\n",
        "    X_train.append(row)\n",
        "    y_train.append(train['izq'][i])\n",
        "\n",
        "# Convertir las listas a matrices NumPy para facilitar el cálculo\n",
        "X_train = np.array(X_train)\n",
        "y_train = np.array(y_train)\n",
        "X_train"
      ],
      "metadata": {
        "colab": {
          "base_uri": "https://localhost:8080/"
        },
        "id": "rgPO8ofPnVze",
        "outputId": "7af83a9f-a164-41c9-ff93-d3c3b2ba6a56"
      },
      "execution_count": null,
      "outputs": [
        {
          "output_type": "execute_result",
          "data": {
            "text/plain": [
              "array([[  1.    , 149.494 ,   0.    , ...,   0.    ,   0.    ,   0.    ],\n",
              "       [  1.    , 149.478 , 149.494 , ...,   0.    ,   0.    ,   0.    ],\n",
              "       [  1.    , 149.457 , 149.478 , ...,   0.    ,   0.    ,   0.    ],\n",
              "       ...,\n",
              "       [  1.    ,  75.0909,  75.1718, ...,  76.042 ,  76.2591,  76.4983],\n",
              "       [  1.    ,  75.0251,  75.0909, ...,  75.8465,  76.042 ,  76.2591],\n",
              "       [  1.    ,  74.973 ,  75.0251, ...,  75.6722,  75.8465,  76.042 ]])"
            ]
          },
          "metadata": {},
          "execution_count": 16
        }
      ]
    },
    {
      "cell_type": "code",
      "source": [
        "# Calcular la matriz de diseño transpuesta\n",
        "X_train_transpose = X_train.T\n",
        "\n",
        "# Calcular la matriz Hessian\n",
        "H = np.dot(X_train_transpose, X_train)\n",
        "\n",
        "# Obtener el número de observaciones (N)\n",
        "N = len(y_train)\n",
        "\n",
        "# Calcular la matriz de identidad\n",
        "I = np.identity(n + 1)\n",
        "\n",
        "# Calcular el término de regularización\n",
        "C = 0.01  # Hiperparametro C\n",
        "reg_term = C * I\n",
        "\n",
        "# Calcular (Hessiana + C*I)\n",
        "Hessiana_reg = H + reg_term\n",
        "\n",
        "# Calcular la matriz de los betas usando la formula vista en clase\n",
        "Hessiana_reg_inv = np.linalg.inv(Hessiana_reg)\n",
        "betas = np.dot(Hessiana_reg_inv,np.dot(X_train_transpose,y_train))"
      ],
      "metadata": {
        "id": "d5NdcMTgoo20"
      },
      "execution_count": null,
      "outputs": []
    },
    {
      "cell_type": "code",
      "source": [
        "# Realizamos la prueba del modelo sobre los valores de los datos reales\n",
        "valid = pd.read_csv(\"./data/valid.csv\", sep=\";\")\n",
        "\n",
        "# 1. Reemplazamos las comas por puntos en las cadenas\n",
        "valid['der'] = valid['der'].str.replace(',', '.', regex=True)\n",
        "valid['izq'] = valid['izq'].str.replace(',', '.', regex=True)\n",
        "\n",
        "# 2. Convertimos las cadenas en flotantes\n",
        "valid['izq'] = valid['izq'].astype(float)\n",
        "valid['der'] = valid['der'].astype(float)\n",
        "\n",
        "# Mostramos el DataFrame resultante\n",
        "valid"
      ],
      "metadata": {
        "colab": {
          "base_uri": "https://localhost:8080/",
          "height": 423
        },
        "id": "xH1QoHehhaFP",
        "outputId": "1047718b-2939-486e-b9c6-0df5c695532e"
      },
      "execution_count": null,
      "outputs": [
        {
          "output_type": "execute_result",
          "data": {
            "text/plain": [
              "          der      izq\n",
              "0     74.9334  147.618\n",
              "1     74.9052  147.727\n",
              "2     74.8876  147.800\n",
              "3     74.8802  147.838\n",
              "4     74.8828  147.838\n",
              "...       ...      ...\n",
              "1075  80.9569  138.029\n",
              "1076  81.4421  137.284\n",
              "1077  81.9437  136.526\n",
              "1078  82.4605  135.755\n",
              "1079  82.9913  134.973\n",
              "\n",
              "[1080 rows x 2 columns]"
            ],
            "text/html": [
              "\n",
              "  <div id=\"df-7cb9aee5-36c2-45cf-9ce7-18a7fd85e959\" class=\"colab-df-container\">\n",
              "    <div>\n",
              "<style scoped>\n",
              "    .dataframe tbody tr th:only-of-type {\n",
              "        vertical-align: middle;\n",
              "    }\n",
              "\n",
              "    .dataframe tbody tr th {\n",
              "        vertical-align: top;\n",
              "    }\n",
              "\n",
              "    .dataframe thead th {\n",
              "        text-align: right;\n",
              "    }\n",
              "</style>\n",
              "<table border=\"1\" class=\"dataframe\">\n",
              "  <thead>\n",
              "    <tr style=\"text-align: right;\">\n",
              "      <th></th>\n",
              "      <th>der</th>\n",
              "      <th>izq</th>\n",
              "    </tr>\n",
              "  </thead>\n",
              "  <tbody>\n",
              "    <tr>\n",
              "      <th>0</th>\n",
              "      <td>74.9334</td>\n",
              "      <td>147.618</td>\n",
              "    </tr>\n",
              "    <tr>\n",
              "      <th>1</th>\n",
              "      <td>74.9052</td>\n",
              "      <td>147.727</td>\n",
              "    </tr>\n",
              "    <tr>\n",
              "      <th>2</th>\n",
              "      <td>74.8876</td>\n",
              "      <td>147.800</td>\n",
              "    </tr>\n",
              "    <tr>\n",
              "      <th>3</th>\n",
              "      <td>74.8802</td>\n",
              "      <td>147.838</td>\n",
              "    </tr>\n",
              "    <tr>\n",
              "      <th>4</th>\n",
              "      <td>74.8828</td>\n",
              "      <td>147.838</td>\n",
              "    </tr>\n",
              "    <tr>\n",
              "      <th>...</th>\n",
              "      <td>...</td>\n",
              "      <td>...</td>\n",
              "    </tr>\n",
              "    <tr>\n",
              "      <th>1075</th>\n",
              "      <td>80.9569</td>\n",
              "      <td>138.029</td>\n",
              "    </tr>\n",
              "    <tr>\n",
              "      <th>1076</th>\n",
              "      <td>81.4421</td>\n",
              "      <td>137.284</td>\n",
              "    </tr>\n",
              "    <tr>\n",
              "      <th>1077</th>\n",
              "      <td>81.9437</td>\n",
              "      <td>136.526</td>\n",
              "    </tr>\n",
              "    <tr>\n",
              "      <th>1078</th>\n",
              "      <td>82.4605</td>\n",
              "      <td>135.755</td>\n",
              "    </tr>\n",
              "    <tr>\n",
              "      <th>1079</th>\n",
              "      <td>82.9913</td>\n",
              "      <td>134.973</td>\n",
              "    </tr>\n",
              "  </tbody>\n",
              "</table>\n",
              "<p>1080 rows × 2 columns</p>\n",
              "</div>\n",
              "    <div class=\"colab-df-buttons\">\n",
              "\n",
              "  <div class=\"colab-df-container\">\n",
              "    <button class=\"colab-df-convert\" onclick=\"convertToInteractive('df-7cb9aee5-36c2-45cf-9ce7-18a7fd85e959')\"\n",
              "            title=\"Convert this dataframe to an interactive table.\"\n",
              "            style=\"display:none;\">\n",
              "\n",
              "  <svg xmlns=\"http://www.w3.org/2000/svg\" height=\"24px\" viewBox=\"0 -960 960 960\">\n",
              "    <path d=\"M120-120v-720h720v720H120Zm60-500h600v-160H180v160Zm220 220h160v-160H400v160Zm0 220h160v-160H400v160ZM180-400h160v-160H180v160Zm440 0h160v-160H620v160ZM180-180h160v-160H180v160Zm440 0h160v-160H620v160Z\"/>\n",
              "  </svg>\n",
              "    </button>\n",
              "\n",
              "  <style>\n",
              "    .colab-df-container {\n",
              "      display:flex;\n",
              "      gap: 12px;\n",
              "    }\n",
              "\n",
              "    .colab-df-convert {\n",
              "      background-color: #E8F0FE;\n",
              "      border: none;\n",
              "      border-radius: 50%;\n",
              "      cursor: pointer;\n",
              "      display: none;\n",
              "      fill: #1967D2;\n",
              "      height: 32px;\n",
              "      padding: 0 0 0 0;\n",
              "      width: 32px;\n",
              "    }\n",
              "\n",
              "    .colab-df-convert:hover {\n",
              "      background-color: #E2EBFA;\n",
              "      box-shadow: 0px 1px 2px rgba(60, 64, 67, 0.3), 0px 1px 3px 1px rgba(60, 64, 67, 0.15);\n",
              "      fill: #174EA6;\n",
              "    }\n",
              "\n",
              "    .colab-df-buttons div {\n",
              "      margin-bottom: 4px;\n",
              "    }\n",
              "\n",
              "    [theme=dark] .colab-df-convert {\n",
              "      background-color: #3B4455;\n",
              "      fill: #D2E3FC;\n",
              "    }\n",
              "\n",
              "    [theme=dark] .colab-df-convert:hover {\n",
              "      background-color: #434B5C;\n",
              "      box-shadow: 0px 1px 3px 1px rgba(0, 0, 0, 0.15);\n",
              "      filter: drop-shadow(0px 1px 2px rgba(0, 0, 0, 0.3));\n",
              "      fill: #FFFFFF;\n",
              "    }\n",
              "  </style>\n",
              "\n",
              "    <script>\n",
              "      const buttonEl =\n",
              "        document.querySelector('#df-7cb9aee5-36c2-45cf-9ce7-18a7fd85e959 button.colab-df-convert');\n",
              "      buttonEl.style.display =\n",
              "        google.colab.kernel.accessAllowed ? 'block' : 'none';\n",
              "\n",
              "      async function convertToInteractive(key) {\n",
              "        const element = document.querySelector('#df-7cb9aee5-36c2-45cf-9ce7-18a7fd85e959');\n",
              "        const dataTable =\n",
              "          await google.colab.kernel.invokeFunction('convertToInteractive',\n",
              "                                                    [key], {});\n",
              "        if (!dataTable) return;\n",
              "\n",
              "        const docLinkHtml = 'Like what you see? Visit the ' +\n",
              "          '<a target=\"_blank\" href=https://colab.research.google.com/notebooks/data_table.ipynb>data table notebook</a>'\n",
              "          + ' to learn more about interactive tables.';\n",
              "        element.innerHTML = '';\n",
              "        dataTable['output_type'] = 'display_data';\n",
              "        await google.colab.output.renderOutput(dataTable, element);\n",
              "        const docLink = document.createElement('div');\n",
              "        docLink.innerHTML = docLinkHtml;\n",
              "        element.appendChild(docLink);\n",
              "      }\n",
              "    </script>\n",
              "  </div>\n",
              "\n",
              "\n",
              "<div id=\"df-4c0bf3e8-1ee6-4b71-a816-1966739c2b54\">\n",
              "  <button class=\"colab-df-quickchart\" onclick=\"quickchart('df-4c0bf3e8-1ee6-4b71-a816-1966739c2b54')\"\n",
              "            title=\"Suggest charts\"\n",
              "            style=\"display:none;\">\n",
              "\n",
              "<svg xmlns=\"http://www.w3.org/2000/svg\" height=\"24px\"viewBox=\"0 0 24 24\"\n",
              "     width=\"24px\">\n",
              "    <g>\n",
              "        <path d=\"M19 3H5c-1.1 0-2 .9-2 2v14c0 1.1.9 2 2 2h14c1.1 0 2-.9 2-2V5c0-1.1-.9-2-2-2zM9 17H7v-7h2v7zm4 0h-2V7h2v10zm4 0h-2v-4h2v4z\"/>\n",
              "    </g>\n",
              "</svg>\n",
              "  </button>\n",
              "\n",
              "<style>\n",
              "  .colab-df-quickchart {\n",
              "      --bg-color: #E8F0FE;\n",
              "      --fill-color: #1967D2;\n",
              "      --hover-bg-color: #E2EBFA;\n",
              "      --hover-fill-color: #174EA6;\n",
              "      --disabled-fill-color: #AAA;\n",
              "      --disabled-bg-color: #DDD;\n",
              "  }\n",
              "\n",
              "  [theme=dark] .colab-df-quickchart {\n",
              "      --bg-color: #3B4455;\n",
              "      --fill-color: #D2E3FC;\n",
              "      --hover-bg-color: #434B5C;\n",
              "      --hover-fill-color: #FFFFFF;\n",
              "      --disabled-bg-color: #3B4455;\n",
              "      --disabled-fill-color: #666;\n",
              "  }\n",
              "\n",
              "  .colab-df-quickchart {\n",
              "    background-color: var(--bg-color);\n",
              "    border: none;\n",
              "    border-radius: 50%;\n",
              "    cursor: pointer;\n",
              "    display: none;\n",
              "    fill: var(--fill-color);\n",
              "    height: 32px;\n",
              "    padding: 0;\n",
              "    width: 32px;\n",
              "  }\n",
              "\n",
              "  .colab-df-quickchart:hover {\n",
              "    background-color: var(--hover-bg-color);\n",
              "    box-shadow: 0 1px 2px rgba(60, 64, 67, 0.3), 0 1px 3px 1px rgba(60, 64, 67, 0.15);\n",
              "    fill: var(--button-hover-fill-color);\n",
              "  }\n",
              "\n",
              "  .colab-df-quickchart-complete:disabled,\n",
              "  .colab-df-quickchart-complete:disabled:hover {\n",
              "    background-color: var(--disabled-bg-color);\n",
              "    fill: var(--disabled-fill-color);\n",
              "    box-shadow: none;\n",
              "  }\n",
              "\n",
              "  .colab-df-spinner {\n",
              "    border: 2px solid var(--fill-color);\n",
              "    border-color: transparent;\n",
              "    border-bottom-color: var(--fill-color);\n",
              "    animation:\n",
              "      spin 1s steps(1) infinite;\n",
              "  }\n",
              "\n",
              "  @keyframes spin {\n",
              "    0% {\n",
              "      border-color: transparent;\n",
              "      border-bottom-color: var(--fill-color);\n",
              "      border-left-color: var(--fill-color);\n",
              "    }\n",
              "    20% {\n",
              "      border-color: transparent;\n",
              "      border-left-color: var(--fill-color);\n",
              "      border-top-color: var(--fill-color);\n",
              "    }\n",
              "    30% {\n",
              "      border-color: transparent;\n",
              "      border-left-color: var(--fill-color);\n",
              "      border-top-color: var(--fill-color);\n",
              "      border-right-color: var(--fill-color);\n",
              "    }\n",
              "    40% {\n",
              "      border-color: transparent;\n",
              "      border-right-color: var(--fill-color);\n",
              "      border-top-color: var(--fill-color);\n",
              "    }\n",
              "    60% {\n",
              "      border-color: transparent;\n",
              "      border-right-color: var(--fill-color);\n",
              "    }\n",
              "    80% {\n",
              "      border-color: transparent;\n",
              "      border-right-color: var(--fill-color);\n",
              "      border-bottom-color: var(--fill-color);\n",
              "    }\n",
              "    90% {\n",
              "      border-color: transparent;\n",
              "      border-bottom-color: var(--fill-color);\n",
              "    }\n",
              "  }\n",
              "</style>\n",
              "\n",
              "  <script>\n",
              "    async function quickchart(key) {\n",
              "      const quickchartButtonEl =\n",
              "        document.querySelector('#' + key + ' button');\n",
              "      quickchartButtonEl.disabled = true;  // To prevent multiple clicks.\n",
              "      quickchartButtonEl.classList.add('colab-df-spinner');\n",
              "      try {\n",
              "        const charts = await google.colab.kernel.invokeFunction(\n",
              "            'suggestCharts', [key], {});\n",
              "      } catch (error) {\n",
              "        console.error('Error during call to suggestCharts:', error);\n",
              "      }\n",
              "      quickchartButtonEl.classList.remove('colab-df-spinner');\n",
              "      quickchartButtonEl.classList.add('colab-df-quickchart-complete');\n",
              "    }\n",
              "    (() => {\n",
              "      let quickchartButtonEl =\n",
              "        document.querySelector('#df-4c0bf3e8-1ee6-4b71-a816-1966739c2b54 button');\n",
              "      quickchartButtonEl.style.display =\n",
              "        google.colab.kernel.accessAllowed ? 'block' : 'none';\n",
              "    })();\n",
              "  </script>\n",
              "</div>\n",
              "    </div>\n",
              "  </div>\n"
            ]
          },
          "metadata": {},
          "execution_count": 18
        }
      ]
    },
    {
      "cell_type": "code",
      "source": [
        "# De nuevo, creamos una matriz de diseño X y el vector de valores objetivo y para el entrenamiento\n",
        "X_valid = []\n",
        "y_valid = []\n",
        "\n",
        "# De nuevo, nos aseguramos de que X_train tenga el mismo número de filas que train\n",
        "for i in range(len(valid)):\n",
        "    row = [1]  # Intercepto\n",
        "    for j in range(n):\n",
        "        # Llenar con valores adecuados para las filas que no se usaron\n",
        "        if i - j < 0:\n",
        "            row.append(0.0)\n",
        "        else:\n",
        "            row.append(valid['der'][i - j])\n",
        "    X_valid.append(row)\n",
        "    y_valid.append(valid['izq'][i])\n",
        "\n",
        "# Convertir las listas a matrices NumPy para facilitar el calculo\n",
        "X_valid = np.array(X_valid)\n",
        "y_valid = np.array(y_valid)\n",
        "X_valid.shape, y_valid.shape"
      ],
      "metadata": {
        "colab": {
          "base_uri": "https://localhost:8080/"
        },
        "id": "zYw7VzfRhSbb",
        "outputId": "49ac56fb-fa7d-4089-a0e4-ff569746d16a"
      },
      "execution_count": null,
      "outputs": [
        {
          "output_type": "execute_result",
          "data": {
            "text/plain": [
              "((1080, 11), (1080,))"
            ]
          },
          "metadata": {},
          "execution_count": 19
        }
      ]
    },
    {
      "cell_type": "code",
      "source": [
        "# Realizar predicciones en el conjunto de entrenamiento\n",
        "y_valid_train = np.dot(X_valid, betas)\n",
        "\n",
        "# Calcular el RMSE entre las predicciones y los valores verdaderos\n",
        "mse_train = np.mean((y_valid_train - y_valid) ** 2)\n",
        "rmse_train = round(np.sqrt(mse_train),4)\n",
        "\n",
        "print(f'RMSE en el conjunto de validacion: {rmse_train}')"
      ],
      "metadata": {
        "colab": {
          "base_uri": "https://localhost:8080/"
        },
        "id": "ccieo4bQixkD",
        "outputId": "5aa38084-3a14-4dff-96ee-7003b2b2e52a"
      },
      "execution_count": null,
      "outputs": [
        {
          "output_type": "stream",
          "name": "stdout",
          "text": [
            "RMSE en el conjunto de validacion: 5.4105\n"
          ]
        }
      ]
    },
    {
      "cell_type": "code",
      "source": [
        "y_valid_train"
      ],
      "metadata": {
        "colab": {
          "base_uri": "https://localhost:8080/"
        },
        "id": "ZDSLjsfGmcFA",
        "outputId": "e1e578dc-5c5d-479d-91a3-eb34d14b8ade"
      },
      "execution_count": null,
      "outputs": [
        {
          "output_type": "execute_result",
          "data": {
            "text/plain": [
              "array([141.88070599, 142.03038769, 142.16832344, ..., 133.70009704,\n",
              "       133.17869091, 132.64285657])"
            ]
          },
          "metadata": {},
          "execution_count": 21
        }
      ]
    },
    {
      "cell_type": "code",
      "source": [
        "y_valid"
      ],
      "metadata": {
        "colab": {
          "base_uri": "https://localhost:8080/"
        },
        "id": "Rg6_ibn4m3Bx",
        "outputId": "9e057ebf-8efa-4479-d133-2e3c2deff7b7"
      },
      "execution_count": null,
      "outputs": [
        {
          "output_type": "execute_result",
          "data": {
            "text/plain": [
              "array([147.618, 147.727, 147.8  , ..., 136.526, 135.755, 134.973])"
            ]
          },
          "metadata": {},
          "execution_count": 22
        }
      ]
    },
    {
      "cell_type": "markdown",
      "source": [
        "##4.2 Tabla de comparacion de los RMSE para distintas combinaciones"
      ],
      "metadata": {
        "id": "78B2QSOD2phI"
      }
    },
    {
      "cell_type": "code",
      "source": [
        "import pandas as pd\n",
        "\n",
        "#Se crea una función para realizar las diferentes pruebas\n",
        "\n",
        "def training(n_f, C_f):\n",
        "  # Tamaño de la ventana (n)\n",
        "\n",
        "  # Creamos una matriz de diseño X y el vector de valores objetivo y para el entrenamiento\n",
        "  X_train_i = []\n",
        "  y_train_i = []\n",
        "\n",
        "  # Aseguraramos que X_train tenga el mismo número de filas que train\n",
        "  for i in range(len(train)):\n",
        "      row = [1]  # Intercepto\n",
        "      for j in range(n_f):\n",
        "          # Llenar con valores adecuados para las filas que no se usaron\n",
        "          if i - j < 0:\n",
        "              row.append(0.0)\n",
        "          else:\n",
        "              row.append(train['der'][i - j])\n",
        "      X_train_i.append(row)\n",
        "      y_train_i.append(train['izq'][i])\n",
        "\n",
        "  # Convertir las listas a matrices NumPy para facilitar el cálculo\n",
        "  X_train_f = np.array(X_train_i)\n",
        "  y_train_f = np.array(y_train_i)\n",
        "\n",
        "  # Calcular la matriz de diseño transpuesta\n",
        "  X_train_transpose_f = X_train_f.T\n",
        "\n",
        "  # Calcular la matriz Hessian\n",
        "  H_f = np.dot(X_train_transpose_f, X_train_f)\n",
        "\n",
        "  # Obtener el número de observaciones (N)\n",
        "  N_f = len(y_train_f)\n",
        "\n",
        "  # Calcular la matriz de identidad\n",
        "  I_f = np.identity(n_f + 1)\n",
        "\n",
        "  # Calcular el término de regularización\n",
        "# Hiperparametro C\n",
        "  reg_term_f = C_f * I_f\n",
        "\n",
        "  # Calcular (Hessiana + C*I)\n",
        "  Hessiana_reg_f = H_f + reg_term_f\n",
        "\n",
        "  # Calcular la matriz de los betas usando la formula vista en clase\n",
        "  Hessiana_reg_inv_f = np.linalg.inv(Hessiana_reg_f)\n",
        "  betas_f = np.dot(Hessiana_reg_inv_f,np.dot(X_train_transpose_f,y_train_f))\n",
        "\n",
        "  X_valid_j = []\n",
        "  y_valid_j = []\n",
        "\n",
        "  # De nuevo, nos aseguramos de que X_train tenga el mismo número de filas que train\n",
        "  for i in range(len(valid)):\n",
        "      row = [1]  # Intercepto\n",
        "      for j in range(n_f):\n",
        "          # Llenar con valores adecuados para las filas que no se usaron\n",
        "          if i - j < 0:\n",
        "              row.append(0.0)\n",
        "          else:\n",
        "              row.append(valid['der'][i - j])\n",
        "      X_valid_j.append(row)\n",
        "      y_valid_j.append(valid['izq'][i])\n",
        "\n",
        "  # Convertir las listas a matrices NumPy para facilitar el calculo\n",
        "  X_valid_f = np.array(X_valid_j)\n",
        "  y_valid_f = np.array(y_valid_j)\n",
        "\n",
        "  # Realizar predicciones en el conjunto de entrenamiento\n",
        "  y_valid_train_f = np.dot(X_valid_f, betas_f)\n",
        "\n",
        "  # Calcular el RMSE entre las predicciones y los valores verdaderos\n",
        "  mse_train_f = np.mean((y_valid_train_f - y_valid_f) ** 2)\n",
        "  rmse_train_f = round(np.sqrt(mse_train_f),4)\n",
        "\n",
        "  return rmse_train_f\n",
        "\n",
        "\n",
        "\n",
        "\"\"\"\n",
        "Se ejecuta el metodo training para cada una de las combinaciones de hiperparametros (Se omite por simplicidad temporal)\n",
        "training(450,0.01)\n",
        "training(460,0.01)\n",
        "training(470,0.01)\n",
        "training(480,0.01)\n",
        "\"\"\"\n",
        "# Crear un diccionario con datos para la tabla\n",
        "data = {\n",
        "    'n': [450,460,470,480],\n",
        "    'c': [0.01,0.01,0.01,0.01],\n",
        "    'RMSE': [4.6387,\n",
        "             4.6367,\n",
        "             4.6370,\n",
        "             4.6398]\n",
        "}\n",
        "\n",
        "# Crear un DataFrame a partir del diccionario\n",
        "df = pd.DataFrame(data)\n",
        "\n",
        "# Mostrar la tabla\n",
        "print(df)\n",
        "\n"
      ],
      "metadata": {
        "colab": {
          "base_uri": "https://localhost:8080/"
        },
        "id": "O04qQ7o8EtEE",
        "outputId": "db989029-fea9-4fdb-fc3c-e3fdeb2a883f"
      },
      "execution_count": null,
      "outputs": [
        {
          "output_type": "stream",
          "name": "stdout",
          "text": [
            "     n     c    RMSE\n",
            "0  450  0.01  4.6387\n",
            "1  460  0.01  4.6367\n",
            "2  470  0.01  4.6370\n",
            "3  480  0.01  4.6398\n"
          ]
        }
      ]
    },
    {
      "cell_type": "markdown",
      "source": [
        "En primera instancia, se determinó el hiperparamatro $n$ que minimizaba en mayor proporcion el RMSE, y por tanto el más adecuado."
      ],
      "metadata": {
        "id": "Iy6NCPBavcHf"
      }
    },
    {
      "cell_type": "code",
      "source": [
        "data = {\n",
        "    'n': [10,10,10,10,10,10],\n",
        "    'c': [0.01,0.001,0.0001,0.00001,0.000001, 0.0000001],\n",
        "    'RMSE': [training(10,0.01),\n",
        "             training(10,0.001),\n",
        "             training(10,0.0001),\n",
        "             training(10,0.00001),\n",
        "             training(10,0.000001),\n",
        "             training(10,0.0000001),]\n",
        "}\n",
        "\n",
        "\n",
        "# Crear un DataFrame a partir del diccionario\n",
        "df = pd.DataFrame(data)\n",
        "\n",
        "# Mostrar la tabla\n",
        "print(df)\n",
        "\n",
        "print('\\nHiperparametros finales:\\n')\n",
        "data = {\n",
        "    'n': [465],\n",
        "    'c': [0.00001],\n",
        "    'RMSE': [training(465,0.00001)]\n",
        "}\n",
        "\n",
        "\n",
        "# Crear un DataFrame a partir del diccionario\n",
        "df = pd.DataFrame(data)\n",
        "\n",
        "# Mostrar la tabla\n",
        "print(df)"
      ],
      "metadata": {
        "colab": {
          "base_uri": "https://localhost:8080/"
        },
        "id": "KiEhwCFYvj6l",
        "outputId": "bec60d22-bf8c-41ce-fd98-39f73385aab7"
      },
      "execution_count": null,
      "outputs": [
        {
          "output_type": "stream",
          "name": "stdout",
          "text": [
            "    n             c    RMSE\n",
            "0  10  1.000000e-02  5.4105\n",
            "1  10  1.000000e-03  5.4104\n",
            "2  10  1.000000e-04  5.4104\n",
            "3  10  1.000000e-05  5.4103\n",
            "4  10  1.000000e-06  5.4103\n",
            "5  10  1.000000e-07  5.4103\n",
            "\n",
            "Hiperparametros finales:\n",
            "\n",
            "     n        c    RMSE\n",
            "0  465  0.00001  4.6343\n"
          ]
        }
      ]
    },
    {
      "cell_type": "markdown",
      "source": [
        "Del mismo modo, se identificó el hiperparámetro $c$ que minimizó de manera significativa el RMSE. Esto llevó a la conclusión de que un valor de $c$ igual a 0.00001, en combinación con una ventana de tamaño $n$ de 460, resultó en una reducción del RMSE a 4.6343."
      ],
      "metadata": {
        "id": "qPhbPCrZvkUj"
      }
    },
    {
      "cell_type": "code",
      "source": [
        "# Se definen los hiperparametros de entrenamiento hallados y se entrena nuevamente con estos\n",
        "\n",
        "n = 200# Hiperparametro n\n",
        "C = 0.00001  # Hiperparametro C\n",
        "\n",
        "\n",
        "# Creamos una matriz de diseño X y el vector de valores objetivo y para el entrenamiento\n",
        "X_train = []\n",
        "y_train = []\n",
        "\n",
        "# Aseguraramos que X_train tenga el mismo número de filas que train\n",
        "for i in range(len(train)):\n",
        "    row = [1]  # Intercepto\n",
        "    for j in range(n):\n",
        "        # Llenar con valores adecuados para las filas que no se usaron\n",
        "        if i - j < 0:\n",
        "            row.append(0.0)\n",
        "        else:\n",
        "            row.append(train['der'][i - j])\n",
        "    X_train.append(row)\n",
        "    y_train.append(train['izq'][i])\n",
        "\n",
        "# Convertir las listas a matrices NumPy para facilitar el cálculo\n",
        "X_train = np.array(X_train)\n",
        "y_train = np.array(y_train)\n",
        "\n",
        "\n",
        "# Calcular la matriz de diseño transpuesta\n",
        "X_train_transpose = X_train.T\n",
        "\n",
        "# Calcular la matriz Hessian\n",
        "H = np.dot(X_train_transpose, X_train)\n",
        "\n",
        "# Obtener el número de observaciones (N)\n",
        "N = len(y_train)\n",
        "\n",
        "# Calcular la matriz de identidad\n",
        "I = np.identity(n + 1)\n",
        "\n",
        "# Calcular el término de regularización\n",
        "\n",
        "reg_term = C * I\n",
        "\n",
        "# Calcular (Hessiana + C*I)\n",
        "Hessiana_reg = H + reg_term\n",
        "\n",
        "# Calcular la matriz de los betas usando la formula vista en clase\n",
        "Hessiana_reg_inv = np.linalg.inv(Hessiana_reg)\n",
        "betas = np.dot(Hessiana_reg_inv,np.dot(X_train_transpose,y_train))"
      ],
      "metadata": {
        "id": "tCaWd0TQpbuR"
      },
      "execution_count": null,
      "outputs": []
    },
    {
      "cell_type": "markdown",
      "source": [
        "#5. Generacion de etiquetas en el archivo \"valores_incognito.csv\""
      ],
      "metadata": {
        "id": "VnHN5QEdzC72"
      }
    },
    {
      "cell_type": "code",
      "source": [
        "# Cargar el archivo \"valores_incognito.csv\" que contiene la columna \"der\"\n",
        "valores_incognito = pd.read_csv(\"./data/valores_incognito.csv\", sep=\";\")\n",
        "\n",
        "# De nuevo, creamos una matriz de diseño X y el vector de valores objetivo y para el entrenamiento\n",
        "X_valid = []\n",
        "\n",
        "# De nuevo, nos aseguramos de que X_train tenga el mismo número de filas que train\n",
        "for i in range(len(valores_incognito)):\n",
        "    row = [1]  # Intercepto\n",
        "    for j in range(n):\n",
        "        # Llenar con valores adecuados para las filas que no se usaron\n",
        "        if i - j < 0:\n",
        "            row.append(0.0)\n",
        "        else:\n",
        "            row.append(valid['der'][i - j])\n",
        "    X_valid.append(row)\n",
        "\n",
        "# Convertir las listas a matrices NumPy para facilitar el calculo\n",
        "X_valores_incognito = np.array(X_valid)"
      ],
      "metadata": {
        "id": "t67t3t0rzK--"
      },
      "execution_count": null,
      "outputs": []
    },
    {
      "cell_type": "code",
      "source": [
        "# Realizar predicciones en el conjunto de valores incógnitos\n",
        "y_pred_valores_incognito = np.dot(X_valores_incognito, betas)\n",
        "\n",
        "# Agregar las etiquetas predichas (izq) al DataFrame\n",
        "valores_incognito['izq'] = y_pred_valores_incognito\n",
        "\n",
        "# Guardar el DataFrame resultante en un nuevo archivo CSV\n",
        "valores_incognito.to_csv(\"./data/valores_incognito_predichos.csv\", index=False)\n",
        "\n",
        "valores_incognito"
      ],
      "metadata": {
        "colab": {
          "base_uri": "https://localhost:8080/",
          "height": 423
        },
        "id": "CkAJBgFM0YjJ",
        "outputId": "0733abe1-0558-4444-d57b-d0ce75746aec"
      },
      "execution_count": null,
      "outputs": [
        {
          "output_type": "execute_result",
          "data": {
            "text/plain": [
              "          der         izq\n",
              "0     83,5353  141.279191\n",
              "1     84,0916  141.429183\n",
              "2     84,6594  141.567426\n",
              "3      85,238  141.693071\n",
              "4      85,827  141.805694\n",
              "...       ...         ...\n",
              "1075  114,649  135.417965\n",
              "1076  114,686  134.899866\n",
              "1077  114,702  134.364297\n",
              "1078  114,707  133.812429\n",
              "1079  114,708  133.245573\n",
              "\n",
              "[1080 rows x 2 columns]"
            ],
            "text/html": [
              "\n",
              "  <div id=\"df-e3f6b41c-767a-4848-ab7d-eeec800889b4\" class=\"colab-df-container\">\n",
              "    <div>\n",
              "<style scoped>\n",
              "    .dataframe tbody tr th:only-of-type {\n",
              "        vertical-align: middle;\n",
              "    }\n",
              "\n",
              "    .dataframe tbody tr th {\n",
              "        vertical-align: top;\n",
              "    }\n",
              "\n",
              "    .dataframe thead th {\n",
              "        text-align: right;\n",
              "    }\n",
              "</style>\n",
              "<table border=\"1\" class=\"dataframe\">\n",
              "  <thead>\n",
              "    <tr style=\"text-align: right;\">\n",
              "      <th></th>\n",
              "      <th>der</th>\n",
              "      <th>izq</th>\n",
              "    </tr>\n",
              "  </thead>\n",
              "  <tbody>\n",
              "    <tr>\n",
              "      <th>0</th>\n",
              "      <td>83,5353</td>\n",
              "      <td>141.279191</td>\n",
              "    </tr>\n",
              "    <tr>\n",
              "      <th>1</th>\n",
              "      <td>84,0916</td>\n",
              "      <td>141.429183</td>\n",
              "    </tr>\n",
              "    <tr>\n",
              "      <th>2</th>\n",
              "      <td>84,6594</td>\n",
              "      <td>141.567426</td>\n",
              "    </tr>\n",
              "    <tr>\n",
              "      <th>3</th>\n",
              "      <td>85,238</td>\n",
              "      <td>141.693071</td>\n",
              "    </tr>\n",
              "    <tr>\n",
              "      <th>4</th>\n",
              "      <td>85,827</td>\n",
              "      <td>141.805694</td>\n",
              "    </tr>\n",
              "    <tr>\n",
              "      <th>...</th>\n",
              "      <td>...</td>\n",
              "      <td>...</td>\n",
              "    </tr>\n",
              "    <tr>\n",
              "      <th>1075</th>\n",
              "      <td>114,649</td>\n",
              "      <td>135.417965</td>\n",
              "    </tr>\n",
              "    <tr>\n",
              "      <th>1076</th>\n",
              "      <td>114,686</td>\n",
              "      <td>134.899866</td>\n",
              "    </tr>\n",
              "    <tr>\n",
              "      <th>1077</th>\n",
              "      <td>114,702</td>\n",
              "      <td>134.364297</td>\n",
              "    </tr>\n",
              "    <tr>\n",
              "      <th>1078</th>\n",
              "      <td>114,707</td>\n",
              "      <td>133.812429</td>\n",
              "    </tr>\n",
              "    <tr>\n",
              "      <th>1079</th>\n",
              "      <td>114,708</td>\n",
              "      <td>133.245573</td>\n",
              "    </tr>\n",
              "  </tbody>\n",
              "</table>\n",
              "<p>1080 rows × 2 columns</p>\n",
              "</div>\n",
              "    <div class=\"colab-df-buttons\">\n",
              "\n",
              "  <div class=\"colab-df-container\">\n",
              "    <button class=\"colab-df-convert\" onclick=\"convertToInteractive('df-e3f6b41c-767a-4848-ab7d-eeec800889b4')\"\n",
              "            title=\"Convert this dataframe to an interactive table.\"\n",
              "            style=\"display:none;\">\n",
              "\n",
              "  <svg xmlns=\"http://www.w3.org/2000/svg\" height=\"24px\" viewBox=\"0 -960 960 960\">\n",
              "    <path d=\"M120-120v-720h720v720H120Zm60-500h600v-160H180v160Zm220 220h160v-160H400v160Zm0 220h160v-160H400v160ZM180-400h160v-160H180v160Zm440 0h160v-160H620v160ZM180-180h160v-160H180v160Zm440 0h160v-160H620v160Z\"/>\n",
              "  </svg>\n",
              "    </button>\n",
              "\n",
              "  <style>\n",
              "    .colab-df-container {\n",
              "      display:flex;\n",
              "      gap: 12px;\n",
              "    }\n",
              "\n",
              "    .colab-df-convert {\n",
              "      background-color: #E8F0FE;\n",
              "      border: none;\n",
              "      border-radius: 50%;\n",
              "      cursor: pointer;\n",
              "      display: none;\n",
              "      fill: #1967D2;\n",
              "      height: 32px;\n",
              "      padding: 0 0 0 0;\n",
              "      width: 32px;\n",
              "    }\n",
              "\n",
              "    .colab-df-convert:hover {\n",
              "      background-color: #E2EBFA;\n",
              "      box-shadow: 0px 1px 2px rgba(60, 64, 67, 0.3), 0px 1px 3px 1px rgba(60, 64, 67, 0.15);\n",
              "      fill: #174EA6;\n",
              "    }\n",
              "\n",
              "    .colab-df-buttons div {\n",
              "      margin-bottom: 4px;\n",
              "    }\n",
              "\n",
              "    [theme=dark] .colab-df-convert {\n",
              "      background-color: #3B4455;\n",
              "      fill: #D2E3FC;\n",
              "    }\n",
              "\n",
              "    [theme=dark] .colab-df-convert:hover {\n",
              "      background-color: #434B5C;\n",
              "      box-shadow: 0px 1px 3px 1px rgba(0, 0, 0, 0.15);\n",
              "      filter: drop-shadow(0px 1px 2px rgba(0, 0, 0, 0.3));\n",
              "      fill: #FFFFFF;\n",
              "    }\n",
              "  </style>\n",
              "\n",
              "    <script>\n",
              "      const buttonEl =\n",
              "        document.querySelector('#df-e3f6b41c-767a-4848-ab7d-eeec800889b4 button.colab-df-convert');\n",
              "      buttonEl.style.display =\n",
              "        google.colab.kernel.accessAllowed ? 'block' : 'none';\n",
              "\n",
              "      async function convertToInteractive(key) {\n",
              "        const element = document.querySelector('#df-e3f6b41c-767a-4848-ab7d-eeec800889b4');\n",
              "        const dataTable =\n",
              "          await google.colab.kernel.invokeFunction('convertToInteractive',\n",
              "                                                    [key], {});\n",
              "        if (!dataTable) return;\n",
              "\n",
              "        const docLinkHtml = 'Like what you see? Visit the ' +\n",
              "          '<a target=\"_blank\" href=https://colab.research.google.com/notebooks/data_table.ipynb>data table notebook</a>'\n",
              "          + ' to learn more about interactive tables.';\n",
              "        element.innerHTML = '';\n",
              "        dataTable['output_type'] = 'display_data';\n",
              "        await google.colab.output.renderOutput(dataTable, element);\n",
              "        const docLink = document.createElement('div');\n",
              "        docLink.innerHTML = docLinkHtml;\n",
              "        element.appendChild(docLink);\n",
              "      }\n",
              "    </script>\n",
              "  </div>\n",
              "\n",
              "\n",
              "<div id=\"df-63be51ec-da09-4a95-93f1-4b31c3d8b088\">\n",
              "  <button class=\"colab-df-quickchart\" onclick=\"quickchart('df-63be51ec-da09-4a95-93f1-4b31c3d8b088')\"\n",
              "            title=\"Suggest charts\"\n",
              "            style=\"display:none;\">\n",
              "\n",
              "<svg xmlns=\"http://www.w3.org/2000/svg\" height=\"24px\"viewBox=\"0 0 24 24\"\n",
              "     width=\"24px\">\n",
              "    <g>\n",
              "        <path d=\"M19 3H5c-1.1 0-2 .9-2 2v14c0 1.1.9 2 2 2h14c1.1 0 2-.9 2-2V5c0-1.1-.9-2-2-2zM9 17H7v-7h2v7zm4 0h-2V7h2v10zm4 0h-2v-4h2v4z\"/>\n",
              "    </g>\n",
              "</svg>\n",
              "  </button>\n",
              "\n",
              "<style>\n",
              "  .colab-df-quickchart {\n",
              "      --bg-color: #E8F0FE;\n",
              "      --fill-color: #1967D2;\n",
              "      --hover-bg-color: #E2EBFA;\n",
              "      --hover-fill-color: #174EA6;\n",
              "      --disabled-fill-color: #AAA;\n",
              "      --disabled-bg-color: #DDD;\n",
              "  }\n",
              "\n",
              "  [theme=dark] .colab-df-quickchart {\n",
              "      --bg-color: #3B4455;\n",
              "      --fill-color: #D2E3FC;\n",
              "      --hover-bg-color: #434B5C;\n",
              "      --hover-fill-color: #FFFFFF;\n",
              "      --disabled-bg-color: #3B4455;\n",
              "      --disabled-fill-color: #666;\n",
              "  }\n",
              "\n",
              "  .colab-df-quickchart {\n",
              "    background-color: var(--bg-color);\n",
              "    border: none;\n",
              "    border-radius: 50%;\n",
              "    cursor: pointer;\n",
              "    display: none;\n",
              "    fill: var(--fill-color);\n",
              "    height: 32px;\n",
              "    padding: 0;\n",
              "    width: 32px;\n",
              "  }\n",
              "\n",
              "  .colab-df-quickchart:hover {\n",
              "    background-color: var(--hover-bg-color);\n",
              "    box-shadow: 0 1px 2px rgba(60, 64, 67, 0.3), 0 1px 3px 1px rgba(60, 64, 67, 0.15);\n",
              "    fill: var(--button-hover-fill-color);\n",
              "  }\n",
              "\n",
              "  .colab-df-quickchart-complete:disabled,\n",
              "  .colab-df-quickchart-complete:disabled:hover {\n",
              "    background-color: var(--disabled-bg-color);\n",
              "    fill: var(--disabled-fill-color);\n",
              "    box-shadow: none;\n",
              "  }\n",
              "\n",
              "  .colab-df-spinner {\n",
              "    border: 2px solid var(--fill-color);\n",
              "    border-color: transparent;\n",
              "    border-bottom-color: var(--fill-color);\n",
              "    animation:\n",
              "      spin 1s steps(1) infinite;\n",
              "  }\n",
              "\n",
              "  @keyframes spin {\n",
              "    0% {\n",
              "      border-color: transparent;\n",
              "      border-bottom-color: var(--fill-color);\n",
              "      border-left-color: var(--fill-color);\n",
              "    }\n",
              "    20% {\n",
              "      border-color: transparent;\n",
              "      border-left-color: var(--fill-color);\n",
              "      border-top-color: var(--fill-color);\n",
              "    }\n",
              "    30% {\n",
              "      border-color: transparent;\n",
              "      border-left-color: var(--fill-color);\n",
              "      border-top-color: var(--fill-color);\n",
              "      border-right-color: var(--fill-color);\n",
              "    }\n",
              "    40% {\n",
              "      border-color: transparent;\n",
              "      border-right-color: var(--fill-color);\n",
              "      border-top-color: var(--fill-color);\n",
              "    }\n",
              "    60% {\n",
              "      border-color: transparent;\n",
              "      border-right-color: var(--fill-color);\n",
              "    }\n",
              "    80% {\n",
              "      border-color: transparent;\n",
              "      border-right-color: var(--fill-color);\n",
              "      border-bottom-color: var(--fill-color);\n",
              "    }\n",
              "    90% {\n",
              "      border-color: transparent;\n",
              "      border-bottom-color: var(--fill-color);\n",
              "    }\n",
              "  }\n",
              "</style>\n",
              "\n",
              "  <script>\n",
              "    async function quickchart(key) {\n",
              "      const quickchartButtonEl =\n",
              "        document.querySelector('#' + key + ' button');\n",
              "      quickchartButtonEl.disabled = true;  // To prevent multiple clicks.\n",
              "      quickchartButtonEl.classList.add('colab-df-spinner');\n",
              "      try {\n",
              "        const charts = await google.colab.kernel.invokeFunction(\n",
              "            'suggestCharts', [key], {});\n",
              "      } catch (error) {\n",
              "        console.error('Error during call to suggestCharts:', error);\n",
              "      }\n",
              "      quickchartButtonEl.classList.remove('colab-df-spinner');\n",
              "      quickchartButtonEl.classList.add('colab-df-quickchart-complete');\n",
              "    }\n",
              "    (() => {\n",
              "      let quickchartButtonEl =\n",
              "        document.querySelector('#df-63be51ec-da09-4a95-93f1-4b31c3d8b088 button');\n",
              "      quickchartButtonEl.style.display =\n",
              "        google.colab.kernel.accessAllowed ? 'block' : 'none';\n",
              "    })();\n",
              "  </script>\n",
              "</div>\n",
              "    </div>\n",
              "  </div>\n"
            ]
          },
          "metadata": {},
          "execution_count": 29
        }
      ]
    }
  ]
}